{
 "cells": [
  {
   "cell_type": "code",
   "execution_count": 0,
   "metadata": {
    "application/vnd.databricks.v1+cell": {
     "cellMetadata": {
      "byteLimit": 2048000,
      "rowLimit": 10000
     },
     "inputWidgets": {},
     "nuid": "2758d5b1-5fe8-4ece-ae17-84c156e97a17",
     "showTitle": false,
     "tableResultSettingsMap": {},
     "title": ""
    }
   },
   "outputs": [],
   "source": [
    "from pyspark.sql.functions import *\n",
    "from pyspark.sql.types import *"
   ]
  },
  {
   "cell_type": "code",
   "execution_count": 0,
   "metadata": {
    "application/vnd.databricks.v1+cell": {
     "cellMetadata": {
      "byteLimit": 2048000,
      "rowLimit": 10000
     },
     "inputWidgets": {},
     "nuid": "5bd1e906-95a3-4756-8589-c697d6210b84",
     "showTitle": false,
     "tableResultSettingsMap": {},
     "title": ""
    }
   },
   "outputs": [],
   "source": [
    "# read data from source\n",
    "df = spark.read.format(\"parquet\")\\\n",
    "        .load(\"abfss://bronze@databricksdevetl.dfs.core.windows.net/customers\")"
   ]
  },
  {
   "cell_type": "code",
   "execution_count": 0,
   "metadata": {
    "application/vnd.databricks.v1+cell": {
     "cellMetadata": {
      "byteLimit": 2048000,
      "rowLimit": 10000
     },
     "inputWidgets": {},
     "nuid": "4bc7597f-436a-4134-99ac-5b41fa0b3998",
     "showTitle": false,
     "tableResultSettingsMap": {},
     "title": ""
    }
   },
   "outputs": [],
   "source": [
    "df.display()"
   ]
  },
  {
   "cell_type": "code",
   "execution_count": 0,
   "metadata": {
    "application/vnd.databricks.v1+cell": {
     "cellMetadata": {
      "byteLimit": 2048000,
      "rowLimit": 10000
     },
     "inputWidgets": {},
     "nuid": "76f8e8ac-d1b2-4401-84ab-8f3c3a06e7d4",
     "showTitle": false,
     "tableResultSettingsMap": {},
     "title": ""
    }
   },
   "outputs": [],
   "source": [
    "df = df.drop(\"order_id\", \"product_id\", \"order_date\", \"quantity\", \"total_amount\", \"_rescued_data\")"
   ]
  },
  {
   "cell_type": "code",
   "execution_count": 0,
   "metadata": {
    "application/vnd.databricks.v1+cell": {
     "cellMetadata": {
      "byteLimit": 2048000,
      "rowLimit": 10000
     },
     "inputWidgets": {},
     "nuid": "5cdf65e0-c81e-4be4-93bd-3299c254713b",
     "showTitle": false,
     "tableResultSettingsMap": {},
     "title": ""
    }
   },
   "outputs": [],
   "source": [
    "df.display()"
   ]
  },
  {
   "cell_type": "code",
   "execution_count": 0,
   "metadata": {
    "application/vnd.databricks.v1+cell": {
     "cellMetadata": {
      "byteLimit": 2048000,
      "rowLimit": 10000
     },
     "inputWidgets": {},
     "nuid": "13fc2adf-5a2b-426e-886d-91c94912f752",
     "showTitle": false,
     "tableResultSettingsMap": {},
     "title": ""
    }
   },
   "outputs": [],
   "source": [
    "df = df.withColumn(\"domains\", split(col(\"email\"), \"@\")[1])\n",
    "df.display()"
   ]
  },
  {
   "cell_type": "code",
   "execution_count": 0,
   "metadata": {
    "application/vnd.databricks.v1+cell": {
     "cellMetadata": {
      "byteLimit": 2048000,
      "rowLimit": 10000
     },
     "inputWidgets": {},
     "nuid": "d4346784-8534-49f2-8335-d1162ee8cc55",
     "showTitle": false,
     "tableResultSettingsMap": {},
     "title": ""
    }
   },
   "outputs": [],
   "source": [
    "df = df.withColumn(\"full_name\", concat(col(\"first_name\"),lit(\" \"), col(\"last_name\")))\n",
    "df = df.drop(\"first_name\", \"last_name\")\n",
    "df.display()"
   ]
  },
  {
   "cell_type": "code",
   "execution_count": 0,
   "metadata": {
    "application/vnd.databricks.v1+cell": {
     "cellMetadata": {
      "byteLimit": 2048000,
      "rowLimit": 10000
     },
     "inputWidgets": {},
     "nuid": "a9a8b1a3-25e8-4738-8b94-28e5f800f4dd",
     "showTitle": false,
     "tableResultSettingsMap": {},
     "title": ""
    }
   },
   "outputs": [],
   "source": [
    "df = df.withColumnRenamed(\"state\", \"state_abbr\")\n",
    "df.display"
   ]
  },
  {
   "cell_type": "code",
   "execution_count": 0,
   "metadata": {
    "application/vnd.databricks.v1+cell": {
     "cellMetadata": {
      "byteLimit": 2048000,
      "rowLimit": 10000
     },
     "inputWidgets": {},
     "nuid": "d7bb791a-c311-4d17-8bed-13d26fa0e7e9",
     "showTitle": false,
     "tableResultSettingsMap": {},
     "title": ""
    }
   },
   "outputs": [],
   "source": [
    "state_map = {\n",
    "    \"OR\": \"Oregon\", \"MS\": \"Mississippi\", \"SC\": \"South Carolina\", \"AZ\": \"Arizona\", \"IL\": \"Illinois\", \"NE\": \"Nebraska\", \"MT\": \"Montana\", \"PA\": \"Pennsylvania\", \"CO\": \"Colorado\", \"IA\": \"Iowa\", \"KY\": \"Kentucky\", \"RI\": \"Rhode Island\", \"ME\": \"Maine\", \"MD\": \"Maryland\", \"GA\": \"Georgia\", \"NM\": \"New Mexico\", \"MI\": \"Michigan\", \"MN\": \"Minnesota\", \"LA\": \"Louisiana\", \"WY\": \"Wyoming\", \"WI\": \"Wisconsin\", \"FL\": \"Florida\", \"DE\": \"Delaware\", \"NC\": \"North Carolina\", \"WV\": \"West Virginia\", \"CA\": \"California\", \"OH\": \"Ohio\", \"AL\": \"Alabama\", \"TX\": \"Texas\", \"AK\": \"Alaska\", \"NV\": \"Nevada\", \"MA\": \"Massachusetts\", \"ND\": \"North Dakota\", \"NH\": \"New Hampshire\", \"NY\": \"New York\", \"IN\": \"Indiana\", \"ID\": \"Idaho\", \"KS\": \"Kansas\", \"UT\": \"Utah\", \"DC\": \"District of Columbia\", \"MO\": \"Missouri\", \"OK\": \"Oklahoma\", \"WA\": \"Washington\", \"NJ\": \"New Jersey\", \"AR\": \"Arkansas\", \"HI\": \"Hawaii\", \"VT\": \"Vermont\", \"VA\": \"Virginia\", \"TN\": \"Tennessee\", \"CT\": \"Connecticut\", \"SD\": \"South Dakota\"\n",
    "}\n",
    "\n",
    "def abbr_to_full(abbr):\n",
    "    return state_map.get(abbr, \"Unknown\")\n",
    "\n",
    "abbr_to_full_udf = udf(abbr_to_full, StringType())\n",
    "\n",
    "df = df.withColumn(\"state\", abbr_to_full_udf(col(\"state_abbr\")))\n",
    "df.display()"
   ]
  },
  {
   "cell_type": "code",
   "execution_count": 0,
   "metadata": {
    "application/vnd.databricks.v1+cell": {
     "cellMetadata": {
      "byteLimit": 2048000,
      "rowLimit": 10000
     },
     "inputWidgets": {},
     "nuid": "f3c86f70-076a-44b8-b6d7-94ab73c5872a",
     "showTitle": false,
     "tableResultSettingsMap": {},
     "title": ""
    }
   },
   "outputs": [],
   "source": [
    "# write data to silver layer\n",
    "df.write.mode(\"overwrite\") \\\n",
    "    .format(\"delta\") \\\n",
    "    .option(\"mergeSchema\", \"true\") \\\n",
    "    .save(\"abfss://silver@databricksdevetl.dfs.core.windows.net/customers\")"
   ]
  },
  {
   "cell_type": "code",
   "execution_count": 0,
   "metadata": {
    "application/vnd.databricks.v1+cell": {
     "cellMetadata": {
      "byteLimit": 2048000,
      "implicitDf": true,
      "rowLimit": 10000
     },
     "inputWidgets": {},
     "nuid": "29de249c-c084-47a5-bff0-75a1c613d46b",
     "showTitle": false,
     "tableResultSettingsMap": {},
     "title": ""
    }
   },
   "outputs": [],
   "source": [
    "%sql\n",
    "CREATE TABLE IF NOT EXISTS databricks_dev.silver.silver_customers\n",
    "USING DELTA\n",
    "LOCATION \"abfss://silver@databricksdevetl.dfs.core.windows.net/customers\""
   ]
  },
  {
   "cell_type": "code",
   "execution_count": 0,
   "metadata": {
    "application/vnd.databricks.v1+cell": {
     "cellMetadata": {},
     "inputWidgets": {},
     "nuid": "6356089e-ac7f-42d8-8572-bd4434fbbea0",
     "showTitle": false,
     "tableResultSettingsMap": {},
     "title": ""
    }
   },
   "outputs": [],
   "source": []
  }
 ],
 "metadata": {
  "application/vnd.databricks.v1+notebook": {
   "computePreferences": null,
   "dashboards": [],
   "environmentMetadata": {
    "base_environment": "",
    "environment_version": "2"
   },
   "inputWidgetPreferences": null,
   "language": "python",
   "notebookMetadata": {
    "mostRecentlyExecutedCommandWithImplicitDF": {
     "commandId": 7233096419800435,
     "dataframes": [
      "_sqldf"
     ]
    },
    "pythonIndentUnit": 4
   },
   "notebookName": "Silver_Customers",
   "widgets": {}
  },
  "language_info": {
   "name": "python"
  }
 },
 "nbformat": 4,
 "nbformat_minor": 0
}
